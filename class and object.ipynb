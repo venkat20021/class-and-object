{
 "cells": [
  {
   "cell_type": "code",
   "execution_count": 2,
   "id": "60ca2891",
   "metadata": {},
   "outputs": [
    {
     "name": "stdout",
     "output_type": "stream",
     "text": [
      "yes\n",
      "lets party .....\n",
      "surffing in the ocean\n",
      "noo\n"
     ]
    }
   ],
   "source": [
    "class goa:\n",
    "    drinks=\"\"\n",
    "    def party(self):\n",
    "        print(\"lets party .....\")\n",
    "    def beach(self):\n",
    "        print(\"surffing in the ocean\")\n",
    "ramesh=goa()\n",
    "suresh=goa()\n",
    "ramesh.drink='yes'\n",
    "print(ramesh.drink)\n",
    "ramesh.party()\n",
    "suresh.beach()\n",
    "suresh.drink=\"noo\"\n",
    "print(suresh.drink)"
   ]
  },
  {
   "cell_type": "code",
   "execution_count": 9,
   "id": "3ea011a3",
   "metadata": {},
   "outputs": [
    {
     "name": "stdout",
     "output_type": "stream",
     "text": [
      "hukum playlist\n",
      "tigerkaa hukum\n",
      "varuman playlist\n",
      "taal se tale milla\n"
     ]
    }
   ],
   "source": [
    "class songs:\n",
    "    playlist=\"varuma playlist\"\n",
    "    def hukkum(self):\n",
    "        print(\"tigerkaa hukum\")\n",
    "    def varuma(self):\n",
    "        print(\"taal se tale milla\")\n",
    "muthu=songs()\n",
    "varuman=songs()\n",
    "ramesh.playlist=\"hukum playlist\"\n",
    "print(ramesh.playlist)\n",
    "muthu.hukkum()\n",
    "suresh.playlist='varuman playlist'\n",
    "print(suresh.playlist)\n",
    "varuman.varuma()"
   ]
  },
  {
   "cell_type": "code",
   "execution_count": 3,
   "id": "dac82e8f",
   "metadata": {},
   "outputs": [
    {
     "name": "stdout",
     "output_type": "stream",
     "text": [
      "details of the laptop HP\n",
      "90000 intel 16\n",
      "details of the laptop DELL\n",
      "8900000 AMD 16\n",
      "details of the laptop ASUS\n",
      "  \n"
     ]
    }
   ],
   "source": [
    "class laptop:\n",
    "    price=\"\"\n",
    "    processor=\"\"\n",
    "    ram=\"\"\n",
    "    def detailsHP(self):\n",
    "        print(\"details of the laptop HP\")\n",
    "    def detailsDELL(self):\n",
    "        print(\"details of the laptop DELL\")\n",
    "    def detailsASUS(self):\n",
    "        print(\"details of the laptop ASUS\")\n",
    "HP=laptop()\n",
    "dell=laptop()\n",
    "asus=laptop()\n",
    "\n",
    "HP.detailsHP()\n",
    "HP.price='90000'\n",
    "HP.processor='intel'\n",
    "HP.ram='16'\n",
    "\n",
    "print(HP.price,HP.processor,HP.ram)\n",
    "\n",
    "dell.detailsDELL()\n",
    "dell.price='8900000'\n",
    "dell.processor='AMD'\n",
    "dell.ram='16' \n",
    "\n",
    "print(dell.price,dell.processor,dell.ram)\n",
    "\n",
    "HP.detailsASUS()\n",
    "HP.price='1000000'\n",
    "HP.processor='intel'\n",
    "HP.ram='32'\n",
    "\n",
    "print(asus.price,asus.processor,asus.ram)"
   ]
  },
  {
   "cell_type": "code",
   "execution_count": null,
   "id": "775f836f",
   "metadata": {},
   "outputs": [],
   "source": []
  },
  {
   "cell_type": "code",
   "execution_count": null,
   "id": "62bdcd33",
   "metadata": {},
   "outputs": [],
   "source": []
  }
 ],
 "metadata": {
  "kernelspec": {
   "display_name": "Python 3 (ipykernel)",
   "language": "python",
   "name": "python3"
  },
  "language_info": {
   "codemirror_mode": {
    "name": "ipython",
    "version": 3
   },
   "file_extension": ".py",
   "mimetype": "text/x-python",
   "name": "python",
   "nbconvert_exporter": "python",
   "pygments_lexer": "ipython3",
   "version": "3.10.9"
  }
 },
 "nbformat": 4,
 "nbformat_minor": 5
}
